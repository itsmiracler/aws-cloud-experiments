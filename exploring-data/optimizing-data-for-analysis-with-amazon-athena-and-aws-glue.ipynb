{
 "cells": [
  {
   "cell_type": "markdown",
   "metadata": {},
   "source": [
    "## Optimizing data for analysis with Amazon Athena and AWS Glue\n",
    "by Manav Sehgal | on APR 30 2019\n"
   ]
  },
  {
   "cell_type": "markdown",
   "metadata": {},
   "source": [
    "We will continue our open data analytics workflow starting with the AWS Console then moving to using the notebook. Using [AWS Glue](https://aws.amazon.com/glue/) we can automate creating a metadata catalog based on flat files stored on Amazon S3. Glue is a fully managed extract, transform, and load (ETL) service that makes it easy for customers to prepare and load their data for analytics. You can create and run an ETL job with a few clicks in the AWS Management Console. You simply point AWS Glue to your data stored on AWS, and AWS Glue discovers your data and stores the associated metadata (e.g. table definition and schema) in the AWS Glue Data Catalog. Once cataloged, your data is immediately searchable, queryable, and available for ETL.\n",
    "\n",
    "### Glue Data Catalog\n",
    "\n",
    "We have sourced the open dataset from the [Registry of Open Data on AWS](https://registry.opendata.aws/). We also stored the data on S3. Now we are ready to extract, transform, and load the data for analytics. We will use AWS Glue service to do this. First step is to create a logical database entry in the data catalog. Note that we are not creating a physical database which requires resources. This is just a metadata placeholder for the flat file we copied into S3.\n",
    "\n",
    "> When creating the data catalog name try choosing a name without hyphens and few characters long. This will make SQL queries more readable and also avoid certain errors when running these queries.\n",
    "\n",
    "![Glue Data Catalog](https://s3.amazonaws.com/cloudstory/notebooks-media/glue-data-catalog.png)"
   ]
  },
  {
   "cell_type": "markdown",
   "metadata": {},
   "source": [
    "We can also setup the notebook for accessing AWS Glue service using the ``Boto3`` Python SDK. The ``pandas`` and ``IPython`` dependencies are imported for output formatting purposes only. We also import ``numpy`` a popular statistical analysis library. Charts and visualizations will be supported by ``seaborn`` and ``matplotlib`` libraries. To access the Glue service API we create a Glue client. "
   ]
  },
  {
   "cell_type": "code",
   "execution_count": 180,
   "metadata": {},
   "outputs": [],
   "source": [
    "import boto3\n",
    "import pandas as pd\n",
    "import numpy as np\n",
    "from IPython.display import display, Markdown\n",
    "import seaborn as sns\n",
    "%matplotlib inline\n",
    "import matplotlib.pyplot as plt"
   ]
  },
  {
   "cell_type": "code",
   "execution_count": 181,
   "metadata": {},
   "outputs": [],
   "source": [
    "glue = boto3.client('glue')\n",
    "s3 = boto3.client('s3')"
   ]
  },
  {
   "cell_type": "markdown",
   "metadata": {},
   "source": [
    "### List Glue Databases\n",
    "We will recreate the AWS Console GUI experience using SDK calls by creating the ``list_glue_databases`` function. We simply get the data catalogs in one statement and iterate over the results in the next one."
   ]
  },
  {
   "cell_type": "code",
   "execution_count": 182,
   "metadata": {},
   "outputs": [],
   "source": [
    "def list_glue_databases():\n",
    "    glue_database = glue.get_databases()\n",
    "\n",
    "    for db in glue_database['DatabaseList']:\n",
    "        print(db['Name'])"
   ]
  },
  {
   "cell_type": "code",
   "execution_count": 183,
   "metadata": {},
   "outputs": [
    {
     "name": "stdout",
     "output_type": "stream",
     "text": [
      "default\n",
      "odoc\n",
      "sampledb\n",
      "taxicatalog\n"
     ]
    }
   ],
   "source": [
    "list_glue_databases()"
   ]
  },
  {
   "cell_type": "markdown",
   "metadata": {},
   "source": [
    "### Glue Crawler\n",
    "Next, we create a logical table using Glue crawler. This is again just table metadata definition while the actual data is still stored only in the flat file on S3. For this notebook we will define and run the default Glue Crawler to extract and load the metadata schema from our flat file. This requires selection of a data store which is S3 in this case, defining an IAM role for access from Glue to S3, selecting a schedule for the crawler to run repeatedly if required, and output destination of the crawler results. \n",
    "\n",
    "> Please ensure that the flat file is stored on S3 within its own folder and you point at the folder when picking the data source during crawler definition. If you point directly to a flat file when running the crawler, it may return zero results when querying using Amazon Athena.\n",
    "\n",
    "Glue will pick up folder name for the logical table name. Keeping our data source files in a folder has the added advantage of incremntally updating the folder with updates to the data with more files or updating the original file. Glue will pick up these changes based on crawler run schedule.\n",
    "\n",
    "![Glue Crawler](https://s3.amazonaws.com/cloudstory/notebooks-media/glue-crawler.png)\n",
    "\n",
    "### Glue Table Metadata\n",
    "This results in extraction of table metadata stored within our data catalog. The schema with data types is extracted and stored in Glue Data Catalog. Note that the default Glue Crawler understands well-formed CSV files with first row as comma-separated list of column names, and next set of rows representing ordered data records. The Glue Crawler automatically guesses data types based on the contents of the flat file.\n",
    "\n",
    "![Table Metadata](https://s3.amazonaws.com/cloudstory/notebooks-media/table-metadata.png)"
   ]
  },
  {
   "cell_type": "markdown",
   "metadata": {},
   "source": [
    "### Transform Data Using Athena\n",
    "\n",
    "Transforming big data in notebook environment is not viable. Instead we can use Amazon Athena for large data transforms and bring the results back into our notebook.\n",
    "\n",
    "![Athena Transform Data](https://s3.amazonaws.com/cloudstory/notebooks-media/athena-transform-data.png)\n",
    "\n",
    "We will use following query to create a well formed table transformed from our original table. Note that we specify the output location so that Athena defined WorkGroup location is not used by default. We also specify the format as ``TEXTFILE`` otherwise default ``PARQUET`` format is used which may generate errors when sampling this data.\n",
    "\n",
    "```SQL\n",
    "CREATE TABLE \n",
    "IF NOT EXISTS \"taxicatalog\".\"many_trips_well_formed\" \n",
    "WITH (\n",
    "    external_location = 's3://open-data-analytics-taxi-trips/many-trips-well-formed/',\n",
    "    format = 'TEXTFILE',\n",
    "    field_delimiter = ','\n",
    ")\n",
    "AS SELECT vendorid AS vendor,\n",
    "         passenger_count AS passengers,\n",
    "         trip_distance AS distance,\n",
    "         ratecodeid AS rate,\n",
    "         pulocationid AS pick_location,\n",
    "         dolocationid AS drop_location,\n",
    "         payment_type AS payment_type,\n",
    "         fare_amount AS fare,\n",
    "         extra AS extra_fare,\n",
    "         mta_tax AS tax,\n",
    "         tip_amount AS tip,\n",
    "         tolls_amount AS toll,\n",
    "         improvement_surcharge AS surcharge,\n",
    "         total_amount AS total_fare,\n",
    "         tpep_pickup_datetime AS pick_when,\n",
    "         tpep_dropoff_datetime AS drop_when\n",
    "FROM \"taxicatalog\".\"many_trips\";\n",
    "```\n"
   ]
  },
  {
   "cell_type": "markdown",
   "metadata": {},
   "source": [
    "### List Glue Tables\n",
    "In the spirit of CloudStory API we will recreate the AWS Console feature which lists the tables and displays the metadata within one single reusable function. We get the list of table metadata stored within our data catalog by passing the ``database`` parameter. Next we iterate over each table object and display the name, source data file, number of records (estimate), average record size, data size in MB, and the name of the crawler used to extract the table metadata. We also display the list of column names and data types extracted as schema from the flat file stored on S3."
   ]
  },
  {
   "cell_type": "code",
   "execution_count": 184,
   "metadata": {},
   "outputs": [],
   "source": [
    "def list_glue_tables(database, verbose=True):\n",
    "    glue_tables = glue.get_tables(DatabaseName=database)\n",
    "    \n",
    "    for table in glue_tables['TableList']:\n",
    "        display(Markdown('**Table: ' + table['Name'] + '**'))\n",
    "        display(Markdown('Location: ' + table['StorageDescriptor']['Location']))\n",
    "        created = table['CreatedBy'].split('/')\n",
    "        display(Markdown('Created by: ' + created[-1]))\n",
    "        if verbose and created[-1] == 'AWS Crawler':\n",
    "            display(Markdown(f'Records: {int(table[\"Parameters\"][\"recordCount\"]):,}'))\n",
    "            display(Markdown(f'Average Record Size: {table[\"Parameters\"][\"averageRecordSize\"]} Bytes'))\n",
    "            display(Markdown(f'Dataset Size: {float(table[\"Parameters\"][\"sizeKey\"])/1024/1024:3.0f} MB'))\n",
    "            display(Markdown(f'Crawler: {table[\"Parameters\"][\"UPDATED_BY_CRAWLER\"]}'))\n",
    "        if verbose:\n",
    "            df_columns = pd.DataFrame.from_dict(table[\"StorageDescriptor\"][\"Columns\"])\n",
    "            display(df_columns[['Name', 'Type']])\n",
    "            display(Markdown('---'))"
   ]
  },
  {
   "cell_type": "code",
   "execution_count": 185,
   "metadata": {},
   "outputs": [
    {
     "data": {
      "text/markdown": [
       "**Table: many_trips**"
      ],
      "text/plain": [
       "<IPython.core.display.Markdown object>"
      ]
     },
     "metadata": {},
     "output_type": "display_data"
    },
    {
     "data": {
      "text/markdown": [
       "Location: s3://open-data-analytics-taxi-trips/many-trips/"
      ],
      "text/plain": [
       "<IPython.core.display.Markdown object>"
      ]
     },
     "metadata": {},
     "output_type": "display_data"
    },
    {
     "data": {
      "text/markdown": [
       "Created by: AWS-Crawler"
      ],
      "text/plain": [
       "<IPython.core.display.Markdown object>"
      ]
     },
     "metadata": {},
     "output_type": "display_data"
    },
    {
     "data": {
      "text/markdown": [
       "**Table: many_trips_well_formed**"
      ],
      "text/plain": [
       "<IPython.core.display.Markdown object>"
      ]
     },
     "metadata": {},
     "output_type": "display_data"
    },
    {
     "data": {
      "text/markdown": [
       "Location: s3://open-data-analytics-taxi-trips/many-trips-well-formed"
      ],
      "text/plain": [
       "<IPython.core.display.Markdown object>"
      ]
     },
     "metadata": {},
     "output_type": "display_data"
    },
    {
     "data": {
      "text/markdown": [
       "Created by: manav"
      ],
      "text/plain": [
       "<IPython.core.display.Markdown object>"
      ]
     },
     "metadata": {},
     "output_type": "display_data"
    }
   ],
   "source": [
    "list_glue_tables('taxicatalog', verbose=False)"
   ]
  },
  {
   "cell_type": "code",
   "execution_count": 186,
   "metadata": {},
   "outputs": [],
   "source": [
    "athena = boto3.client('athena')"
   ]
  },
  {
   "cell_type": "markdown",
   "metadata": {},
   "source": [
    "### Athena Query\n",
    "Our next action is to bring the data created within Athena into the notebook environment using a ``pandas`` DataFrame. This can be done using the ``athena_query`` function which calls the Amazon Athena API to execute a query and store the output within a bucket and folder. This output is then read by a DataFrame which is returned by the function."
   ]
  },
  {
   "cell_type": "code",
   "execution_count": 187,
   "metadata": {},
   "outputs": [],
   "source": [
    "def athena_query(query, bucket, folder):\n",
    "    output = 's3://' + bucket + '/' + folder + '/'\n",
    "    response = athena.start_query_execution(QueryString=query, \n",
    "                                        ResultConfiguration={'OutputLocation': output})\n",
    "    qid = response['QueryExecutionId']\n",
    "    response = athena.get_query_execution(QueryExecutionId=qid)\n",
    "    state = response['QueryExecution']['Status']['State']\n",
    "    while state == 'RUNNING':\n",
    "        response = athena.get_query_execution(QueryExecutionId=qid)\n",
    "        state = response['QueryExecution']['Status']['State']\n",
    "    key = folder + '/' + qid + '.csv'\n",
    "    data_source = {'Bucket': bucket, 'Key': key}\n",
    "    url = s3.generate_presigned_url(ClientMethod = 'get_object', Params = data_source)\n",
    "    data = pd.read_csv(url)\n",
    "    return data"
   ]
  },
  {
   "cell_type": "markdown",
   "metadata": {},
   "source": [
    "To explore the data within Athena we will query returning thousand random samples."
   ]
  },
  {
   "cell_type": "code",
   "execution_count": 188,
   "metadata": {},
   "outputs": [
    {
     "data": {
      "text/html": [
       "<div>\n",
       "<style scoped>\n",
       "    .dataframe tbody tr th:only-of-type {\n",
       "        vertical-align: middle;\n",
       "    }\n",
       "\n",
       "    .dataframe tbody tr th {\n",
       "        vertical-align: top;\n",
       "    }\n",
       "\n",
       "    .dataframe thead th {\n",
       "        text-align: right;\n",
       "    }\n",
       "</style>\n",
       "<table border=\"1\" class=\"dataframe\">\n",
       "  <thead>\n",
       "    <tr style=\"text-align: right;\">\n",
       "      <th></th>\n",
       "      <th>vendor</th>\n",
       "      <th>passengers</th>\n",
       "      <th>distance</th>\n",
       "      <th>rate</th>\n",
       "      <th>pick_location</th>\n",
       "      <th>drop_location</th>\n",
       "      <th>payment_type</th>\n",
       "      <th>fare</th>\n",
       "      <th>extra_fare</th>\n",
       "      <th>tax</th>\n",
       "      <th>tip</th>\n",
       "      <th>toll</th>\n",
       "      <th>surcharge</th>\n",
       "      <th>total_fare</th>\n",
       "      <th>pick_when</th>\n",
       "      <th>drop_when</th>\n",
       "    </tr>\n",
       "  </thead>\n",
       "  <tbody>\n",
       "    <tr>\n",
       "      <th>0</th>\n",
       "      <td>2</td>\n",
       "      <td>1</td>\n",
       "      <td>1.66</td>\n",
       "      <td>1</td>\n",
       "      <td>186</td>\n",
       "      <td>79</td>\n",
       "      <td>1</td>\n",
       "      <td>11.5</td>\n",
       "      <td>0.0</td>\n",
       "      <td>0.5</td>\n",
       "      <td>3.69</td>\n",
       "      <td>0.0</td>\n",
       "      <td>0.3</td>\n",
       "      <td>15.99</td>\n",
       "      <td>2018-06-25 12:08:55</td>\n",
       "      <td>2018-06-25 12:24:55</td>\n",
       "    </tr>\n",
       "    <tr>\n",
       "      <th>1</th>\n",
       "      <td>1</td>\n",
       "      <td>1</td>\n",
       "      <td>0.50</td>\n",
       "      <td>1</td>\n",
       "      <td>151</td>\n",
       "      <td>151</td>\n",
       "      <td>2</td>\n",
       "      <td>4.0</td>\n",
       "      <td>0.0</td>\n",
       "      <td>0.5</td>\n",
       "      <td>0.00</td>\n",
       "      <td>0.0</td>\n",
       "      <td>0.3</td>\n",
       "      <td>4.80</td>\n",
       "      <td>2018-06-25 12:17:33</td>\n",
       "      <td>2018-06-25 12:20:18</td>\n",
       "    </tr>\n",
       "    <tr>\n",
       "      <th>2</th>\n",
       "      <td>1</td>\n",
       "      <td>1</td>\n",
       "      <td>0.70</td>\n",
       "      <td>1</td>\n",
       "      <td>239</td>\n",
       "      <td>143</td>\n",
       "      <td>1</td>\n",
       "      <td>5.0</td>\n",
       "      <td>0.0</td>\n",
       "      <td>0.5</td>\n",
       "      <td>1.15</td>\n",
       "      <td>0.0</td>\n",
       "      <td>0.3</td>\n",
       "      <td>6.95</td>\n",
       "      <td>2018-06-25 12:27:45</td>\n",
       "      <td>2018-06-25 12:32:21</td>\n",
       "    </tr>\n",
       "    <tr>\n",
       "      <th>3</th>\n",
       "      <td>1</td>\n",
       "      <td>1</td>\n",
       "      <td>1.10</td>\n",
       "      <td>1</td>\n",
       "      <td>143</td>\n",
       "      <td>48</td>\n",
       "      <td>1</td>\n",
       "      <td>8.5</td>\n",
       "      <td>0.0</td>\n",
       "      <td>0.5</td>\n",
       "      <td>1.85</td>\n",
       "      <td>0.0</td>\n",
       "      <td>0.3</td>\n",
       "      <td>11.15</td>\n",
       "      <td>2018-06-25 12:34:45</td>\n",
       "      <td>2018-06-25 12:45:39</td>\n",
       "    </tr>\n",
       "    <tr>\n",
       "      <th>4</th>\n",
       "      <td>1</td>\n",
       "      <td>1</td>\n",
       "      <td>3.00</td>\n",
       "      <td>1</td>\n",
       "      <td>48</td>\n",
       "      <td>144</td>\n",
       "      <td>1</td>\n",
       "      <td>18.0</td>\n",
       "      <td>0.0</td>\n",
       "      <td>0.5</td>\n",
       "      <td>3.75</td>\n",
       "      <td>0.0</td>\n",
       "      <td>0.3</td>\n",
       "      <td>22.55</td>\n",
       "      <td>2018-06-25 12:50:28</td>\n",
       "      <td>2018-06-25 13:17:50</td>\n",
       "    </tr>\n",
       "  </tbody>\n",
       "</table>\n",
       "</div>"
      ],
      "text/plain": [
       "   vendor  passengers  distance  rate  pick_location  drop_location  \\\n",
       "0       2           1      1.66     1            186             79   \n",
       "1       1           1      0.50     1            151            151   \n",
       "2       1           1      0.70     1            239            143   \n",
       "3       1           1      1.10     1            143             48   \n",
       "4       1           1      3.00     1             48            144   \n",
       "\n",
       "   payment_type  fare  extra_fare  tax   tip  toll  surcharge  total_fare  \\\n",
       "0             1  11.5         0.0  0.5  3.69   0.0        0.3       15.99   \n",
       "1             2   4.0         0.0  0.5  0.00   0.0        0.3        4.80   \n",
       "2             1   5.0         0.0  0.5  1.15   0.0        0.3        6.95   \n",
       "3             1   8.5         0.0  0.5  1.85   0.0        0.3       11.15   \n",
       "4             1  18.0         0.0  0.5  3.75   0.0        0.3       22.55   \n",
       "\n",
       "             pick_when            drop_when  \n",
       "0  2018-06-25 12:08:55  2018-06-25 12:24:55  \n",
       "1  2018-06-25 12:17:33  2018-06-25 12:20:18  \n",
       "2  2018-06-25 12:27:45  2018-06-25 12:32:21  \n",
       "3  2018-06-25 12:34:45  2018-06-25 12:45:39  \n",
       "4  2018-06-25 12:50:28  2018-06-25 13:17:50  "
      ]
     },
     "execution_count": 188,
     "metadata": {},
     "output_type": "execute_result"
    }
   ],
   "source": [
    "bucket = 'open-data-analytics-taxi-trips'\n",
    "folder = 'queries'\n",
    "query = 'SELECT * FROM \"taxicatalog\".\"many_trips_well_formed\" TABLESAMPLE BERNOULLI(100) LIMIT 1000;'\n",
    "\n",
    "df = athena_query(query, bucket, folder)\n",
    "df.head()"
   ]
  },
  {
   "cell_type": "markdown",
   "metadata": {},
   "source": [
    "Next we will determine statistical correlation between various features (columns) within the given set of samples (records)."
   ]
  },
  {
   "cell_type": "code",
   "execution_count": 189,
   "metadata": {},
   "outputs": [
    {
     "data": {
      "text/html": [
       "<div>\n",
       "<style scoped>\n",
       "    .dataframe tbody tr th:only-of-type {\n",
       "        vertical-align: middle;\n",
       "    }\n",
       "\n",
       "    .dataframe tbody tr th {\n",
       "        vertical-align: top;\n",
       "    }\n",
       "\n",
       "    .dataframe thead th {\n",
       "        text-align: right;\n",
       "    }\n",
       "</style>\n",
       "<table border=\"1\" class=\"dataframe\">\n",
       "  <thead>\n",
       "    <tr style=\"text-align: right;\">\n",
       "      <th></th>\n",
       "      <th>vendor</th>\n",
       "      <th>passengers</th>\n",
       "      <th>distance</th>\n",
       "      <th>rate</th>\n",
       "      <th>pick_location</th>\n",
       "      <th>drop_location</th>\n",
       "      <th>payment_type</th>\n",
       "      <th>fare</th>\n",
       "      <th>extra_fare</th>\n",
       "      <th>tax</th>\n",
       "      <th>tip</th>\n",
       "      <th>toll</th>\n",
       "      <th>surcharge</th>\n",
       "      <th>total_fare</th>\n",
       "    </tr>\n",
       "  </thead>\n",
       "  <tbody>\n",
       "    <tr>\n",
       "      <th>vendor</th>\n",
       "      <td>1.000000</td>\n",
       "      <td>0.238296</td>\n",
       "      <td>0.077524</td>\n",
       "      <td>0.068357</td>\n",
       "      <td>-0.092944</td>\n",
       "      <td>-0.034407</td>\n",
       "      <td>-0.036761</td>\n",
       "      <td>0.074508</td>\n",
       "      <td>-0.036058</td>\n",
       "      <td>-0.023648</td>\n",
       "      <td>0.030579</td>\n",
       "      <td>0.084248</td>\n",
       "      <td>NaN</td>\n",
       "      <td>0.081624</td>\n",
       "    </tr>\n",
       "    <tr>\n",
       "      <th>passengers</th>\n",
       "      <td>0.238296</td>\n",
       "      <td>1.000000</td>\n",
       "      <td>0.095732</td>\n",
       "      <td>-0.005490</td>\n",
       "      <td>-0.076036</td>\n",
       "      <td>-0.076054</td>\n",
       "      <td>0.014215</td>\n",
       "      <td>0.081750</td>\n",
       "      <td>-0.017374</td>\n",
       "      <td>-0.001874</td>\n",
       "      <td>-0.015566</td>\n",
       "      <td>0.069677</td>\n",
       "      <td>NaN</td>\n",
       "      <td>0.076785</td>\n",
       "    </tr>\n",
       "    <tr>\n",
       "      <th>distance</th>\n",
       "      <td>0.077524</td>\n",
       "      <td>0.095732</td>\n",
       "      <td>1.000000</td>\n",
       "      <td>0.242507</td>\n",
       "      <td>-0.141246</td>\n",
       "      <td>-0.096056</td>\n",
       "      <td>-0.062153</td>\n",
       "      <td>0.938340</td>\n",
       "      <td>0.052227</td>\n",
       "      <td>-0.054501</td>\n",
       "      <td>0.298860</td>\n",
       "      <td>0.436946</td>\n",
       "      <td>NaN</td>\n",
       "      <td>0.925564</td>\n",
       "    </tr>\n",
       "    <tr>\n",
       "      <th>rate</th>\n",
       "      <td>0.068357</td>\n",
       "      <td>-0.005490</td>\n",
       "      <td>0.242507</td>\n",
       "      <td>1.000000</td>\n",
       "      <td>-0.042799</td>\n",
       "      <td>0.041559</td>\n",
       "      <td>0.000932</td>\n",
       "      <td>0.299689</td>\n",
       "      <td>-0.005752</td>\n",
       "      <td>-0.354991</td>\n",
       "      <td>0.037742</td>\n",
       "      <td>0.425105</td>\n",
       "      <td>NaN</td>\n",
       "      <td>0.297754</td>\n",
       "    </tr>\n",
       "    <tr>\n",
       "      <th>pick_location</th>\n",
       "      <td>-0.092944</td>\n",
       "      <td>-0.076036</td>\n",
       "      <td>-0.141246</td>\n",
       "      <td>-0.042799</td>\n",
       "      <td>1.000000</td>\n",
       "      <td>0.059865</td>\n",
       "      <td>-0.048540</td>\n",
       "      <td>-0.133984</td>\n",
       "      <td>-0.030212</td>\n",
       "      <td>-0.007770</td>\n",
       "      <td>-0.009387</td>\n",
       "      <td>-0.128544</td>\n",
       "      <td>NaN</td>\n",
       "      <td>-0.123821</td>\n",
       "    </tr>\n",
       "    <tr>\n",
       "      <th>drop_location</th>\n",
       "      <td>-0.034407</td>\n",
       "      <td>-0.076054</td>\n",
       "      <td>-0.096056</td>\n",
       "      <td>0.041559</td>\n",
       "      <td>0.059865</td>\n",
       "      <td>1.000000</td>\n",
       "      <td>-0.039523</td>\n",
       "      <td>-0.088936</td>\n",
       "      <td>-0.046106</td>\n",
       "      <td>0.010432</td>\n",
       "      <td>-0.013009</td>\n",
       "      <td>-0.062082</td>\n",
       "      <td>NaN</td>\n",
       "      <td>-0.081411</td>\n",
       "    </tr>\n",
       "    <tr>\n",
       "      <th>payment_type</th>\n",
       "      <td>-0.036761</td>\n",
       "      <td>0.014215</td>\n",
       "      <td>-0.062153</td>\n",
       "      <td>0.000932</td>\n",
       "      <td>-0.048540</td>\n",
       "      <td>-0.039523</td>\n",
       "      <td>1.000000</td>\n",
       "      <td>-0.054463</td>\n",
       "      <td>-0.023117</td>\n",
       "      <td>-0.063883</td>\n",
       "      <td>-0.794920</td>\n",
       "      <td>-0.057032</td>\n",
       "      <td>NaN</td>\n",
       "      <td>-0.193921</td>\n",
       "    </tr>\n",
       "    <tr>\n",
       "      <th>fare</th>\n",
       "      <td>0.074508</td>\n",
       "      <td>0.081750</td>\n",
       "      <td>0.938340</td>\n",
       "      <td>0.299689</td>\n",
       "      <td>-0.133984</td>\n",
       "      <td>-0.088936</td>\n",
       "      <td>-0.054463</td>\n",
       "      <td>1.000000</td>\n",
       "      <td>0.053676</td>\n",
       "      <td>-0.100019</td>\n",
       "      <td>0.300108</td>\n",
       "      <td>0.436757</td>\n",
       "      <td>NaN</td>\n",
       "      <td>0.983445</td>\n",
       "    </tr>\n",
       "    <tr>\n",
       "      <th>extra_fare</th>\n",
       "      <td>-0.036058</td>\n",
       "      <td>-0.017374</td>\n",
       "      <td>0.052227</td>\n",
       "      <td>-0.005752</td>\n",
       "      <td>-0.030212</td>\n",
       "      <td>-0.046106</td>\n",
       "      <td>-0.023117</td>\n",
       "      <td>0.053676</td>\n",
       "      <td>1.000000</td>\n",
       "      <td>0.002005</td>\n",
       "      <td>0.055899</td>\n",
       "      <td>-0.009071</td>\n",
       "      <td>NaN</td>\n",
       "      <td>0.053543</td>\n",
       "    </tr>\n",
       "    <tr>\n",
       "      <th>tax</th>\n",
       "      <td>-0.023648</td>\n",
       "      <td>-0.001874</td>\n",
       "      <td>-0.054501</td>\n",
       "      <td>-0.354991</td>\n",
       "      <td>-0.007770</td>\n",
       "      <td>0.010432</td>\n",
       "      <td>-0.063883</td>\n",
       "      <td>-0.100019</td>\n",
       "      <td>0.002005</td>\n",
       "      <td>1.000000</td>\n",
       "      <td>0.068946</td>\n",
       "      <td>-0.173752</td>\n",
       "      <td>NaN</td>\n",
       "      <td>-0.098109</td>\n",
       "    </tr>\n",
       "    <tr>\n",
       "      <th>tip</th>\n",
       "      <td>0.030579</td>\n",
       "      <td>-0.015566</td>\n",
       "      <td>0.298860</td>\n",
       "      <td>0.037742</td>\n",
       "      <td>-0.009387</td>\n",
       "      <td>-0.013009</td>\n",
       "      <td>-0.794920</td>\n",
       "      <td>0.300108</td>\n",
       "      <td>0.055899</td>\n",
       "      <td>0.068946</td>\n",
       "      <td>1.000000</td>\n",
       "      <td>0.163707</td>\n",
       "      <td>NaN</td>\n",
       "      <td>0.436410</td>\n",
       "    </tr>\n",
       "    <tr>\n",
       "      <th>toll</th>\n",
       "      <td>0.084248</td>\n",
       "      <td>0.069677</td>\n",
       "      <td>0.436946</td>\n",
       "      <td>0.425105</td>\n",
       "      <td>-0.128544</td>\n",
       "      <td>-0.062082</td>\n",
       "      <td>-0.057032</td>\n",
       "      <td>0.436757</td>\n",
       "      <td>-0.009071</td>\n",
       "      <td>-0.173752</td>\n",
       "      <td>0.163707</td>\n",
       "      <td>1.000000</td>\n",
       "      <td>NaN</td>\n",
       "      <td>0.443817</td>\n",
       "    </tr>\n",
       "    <tr>\n",
       "      <th>surcharge</th>\n",
       "      <td>NaN</td>\n",
       "      <td>NaN</td>\n",
       "      <td>NaN</td>\n",
       "      <td>NaN</td>\n",
       "      <td>NaN</td>\n",
       "      <td>NaN</td>\n",
       "      <td>NaN</td>\n",
       "      <td>NaN</td>\n",
       "      <td>NaN</td>\n",
       "      <td>NaN</td>\n",
       "      <td>NaN</td>\n",
       "      <td>NaN</td>\n",
       "      <td>NaN</td>\n",
       "      <td>NaN</td>\n",
       "    </tr>\n",
       "    <tr>\n",
       "      <th>total_fare</th>\n",
       "      <td>0.081624</td>\n",
       "      <td>0.076785</td>\n",
       "      <td>0.925564</td>\n",
       "      <td>0.297754</td>\n",
       "      <td>-0.123821</td>\n",
       "      <td>-0.081411</td>\n",
       "      <td>-0.193921</td>\n",
       "      <td>0.983445</td>\n",
       "      <td>0.053543</td>\n",
       "      <td>-0.098109</td>\n",
       "      <td>0.436410</td>\n",
       "      <td>0.443817</td>\n",
       "      <td>NaN</td>\n",
       "      <td>1.000000</td>\n",
       "    </tr>\n",
       "  </tbody>\n",
       "</table>\n",
       "</div>"
      ],
      "text/plain": [
       "                 vendor  passengers  distance      rate  pick_location  \\\n",
       "vendor         1.000000    0.238296  0.077524  0.068357      -0.092944   \n",
       "passengers     0.238296    1.000000  0.095732 -0.005490      -0.076036   \n",
       "distance       0.077524    0.095732  1.000000  0.242507      -0.141246   \n",
       "rate           0.068357   -0.005490  0.242507  1.000000      -0.042799   \n",
       "pick_location -0.092944   -0.076036 -0.141246 -0.042799       1.000000   \n",
       "drop_location -0.034407   -0.076054 -0.096056  0.041559       0.059865   \n",
       "payment_type  -0.036761    0.014215 -0.062153  0.000932      -0.048540   \n",
       "fare           0.074508    0.081750  0.938340  0.299689      -0.133984   \n",
       "extra_fare    -0.036058   -0.017374  0.052227 -0.005752      -0.030212   \n",
       "tax           -0.023648   -0.001874 -0.054501 -0.354991      -0.007770   \n",
       "tip            0.030579   -0.015566  0.298860  0.037742      -0.009387   \n",
       "toll           0.084248    0.069677  0.436946  0.425105      -0.128544   \n",
       "surcharge           NaN         NaN       NaN       NaN            NaN   \n",
       "total_fare     0.081624    0.076785  0.925564  0.297754      -0.123821   \n",
       "\n",
       "               drop_location  payment_type      fare  extra_fare       tax  \\\n",
       "vendor             -0.034407     -0.036761  0.074508   -0.036058 -0.023648   \n",
       "passengers         -0.076054      0.014215  0.081750   -0.017374 -0.001874   \n",
       "distance           -0.096056     -0.062153  0.938340    0.052227 -0.054501   \n",
       "rate                0.041559      0.000932  0.299689   -0.005752 -0.354991   \n",
       "pick_location       0.059865     -0.048540 -0.133984   -0.030212 -0.007770   \n",
       "drop_location       1.000000     -0.039523 -0.088936   -0.046106  0.010432   \n",
       "payment_type       -0.039523      1.000000 -0.054463   -0.023117 -0.063883   \n",
       "fare               -0.088936     -0.054463  1.000000    0.053676 -0.100019   \n",
       "extra_fare         -0.046106     -0.023117  0.053676    1.000000  0.002005   \n",
       "tax                 0.010432     -0.063883 -0.100019    0.002005  1.000000   \n",
       "tip                -0.013009     -0.794920  0.300108    0.055899  0.068946   \n",
       "toll               -0.062082     -0.057032  0.436757   -0.009071 -0.173752   \n",
       "surcharge                NaN           NaN       NaN         NaN       NaN   \n",
       "total_fare         -0.081411     -0.193921  0.983445    0.053543 -0.098109   \n",
       "\n",
       "                    tip      toll  surcharge  total_fare  \n",
       "vendor         0.030579  0.084248        NaN    0.081624  \n",
       "passengers    -0.015566  0.069677        NaN    0.076785  \n",
       "distance       0.298860  0.436946        NaN    0.925564  \n",
       "rate           0.037742  0.425105        NaN    0.297754  \n",
       "pick_location -0.009387 -0.128544        NaN   -0.123821  \n",
       "drop_location -0.013009 -0.062082        NaN   -0.081411  \n",
       "payment_type  -0.794920 -0.057032        NaN   -0.193921  \n",
       "fare           0.300108  0.436757        NaN    0.983445  \n",
       "extra_fare     0.055899 -0.009071        NaN    0.053543  \n",
       "tax            0.068946 -0.173752        NaN   -0.098109  \n",
       "tip            1.000000  0.163707        NaN    0.436410  \n",
       "toll           0.163707  1.000000        NaN    0.443817  \n",
       "surcharge           NaN       NaN        NaN         NaN  \n",
       "total_fare     0.436410  0.443817        NaN    1.000000  "
      ]
     },
     "execution_count": 189,
     "metadata": {},
     "output_type": "execute_result"
    }
   ],
   "source": [
    "corr = df.corr(method ='spearman')\n",
    "corr"
   ]
  },
  {
   "cell_type": "markdown",
   "metadata": {},
   "source": [
    "We can drop features which show ``NaN`` correlation."
   ]
  },
  {
   "cell_type": "code",
   "execution_count": 190,
   "metadata": {},
   "outputs": [],
   "source": [
    "df = df.drop(columns=['surcharge'])"
   ]
  },
  {
   "cell_type": "code",
   "execution_count": 191,
   "metadata": {},
   "outputs": [],
   "source": [
    "corr = df.corr(method ='spearman')"
   ]
  },
  {
   "cell_type": "markdown",
   "metadata": {},
   "source": [
    "Completing the data science workflow from sourcing big data, wrangling it using Amazon Athena to well formed schema, bringing adequate sample data from Athena to notebook environment, conducting exploratory data analysis, and finally visualizing the results."
   ]
  },
  {
   "cell_type": "code",
   "execution_count": 192,
   "metadata": {},
   "outputs": [
    {
     "data": {
      "text/plain": [
       "<matplotlib.axes._subplots.AxesSubplot at 0x7f0d3d04b080>"
      ]
     },
     "execution_count": 192,
     "metadata": {},
     "output_type": "execute_result"
    },
    {
     "data": {
      "image/png": "[encoded data removed]",
      "text/plain": [
       "<Figure size 792x648 with 2 Axes>"
      ]
     },
     "metadata": {},
     "output_type": "display_data"
    }
   ],
   "source": [
    "sns.set(style=\"white\")\n",
    "\n",
    "# Generate a mask for the upper triangle\n",
    "mask = np.zeros_like(corr, dtype=np.bool)\n",
    "mask[np.triu_indices_from(mask)] = True\n",
    "\n",
    "# Set up the matplotlib figure\n",
    "f, ax = plt.subplots(figsize=(11, 9))\n",
    "\n",
    "# Generate a custom diverging colormap\n",
    "cmap = sns.diverging_palette(220, 10, as_cmap=True)\n",
    "\n",
    "# Draw the heatmap with the mask and correct aspect ratio\n",
    "sns.heatmap(corr, mask=mask, cmap=cmap, vmax=.3, center=0, annot=True, fmt=\"3.2f\",\n",
    "            square=True, linewidths=.5, cbar_kws={\"shrink\": .5})"
   ]
  },
  {
   "cell_type": "markdown",
   "metadata": {},
   "source": [
    "#### Optimizing data for analysis with Amazon Athena and AWS Glue\n",
    "by Manav Sehgal | on APR 30 2019\n"
   ]
  }
 ],
 "metadata": {
  "kernelspec": {
   "display_name": "conda_python3",
   "language": "python",
   "name": "conda_python3"
  },
  "language_info": {
   "codemirror_mode": {
    "name": "ipython",
    "version": 3
   },
   "file_extension": ".py",
   "mimetype": "text/x-python",
   "name": "python",
   "nbconvert_exporter": "python",
   "pygments_lexer": "ipython3",
   "version": "3.6.5"
  }
 },
 "nbformat": 4,
 "nbformat_minor": 2
}
